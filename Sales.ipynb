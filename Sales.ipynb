{
 "cells": [
  {
   "cell_type": "code",
   "execution_count": 44,
   "metadata": {},
   "outputs": [
    {
     "name": "stdout",
     "output_type": "stream",
     "text": [
      "Requirement already satisfied: ucimlrepo in c:\\users\\usuario\\anaconda3\\envs\\image_detection\\lib\\site-packages (0.0.7)\n",
      "Requirement already satisfied: pandas>=1.0.0 in c:\\users\\usuario\\anaconda3\\envs\\image_detection\\lib\\site-packages (from ucimlrepo) (2.2.3)\n",
      "Requirement already satisfied: certifi>=2020.12.5 in c:\\users\\usuario\\anaconda3\\envs\\image_detection\\lib\\site-packages (from ucimlrepo) (2024.8.30)\n",
      "Requirement already satisfied: numpy>=1.26.0 in c:\\users\\usuario\\anaconda3\\envs\\image_detection\\lib\\site-packages (from pandas>=1.0.0->ucimlrepo) (1.26.4)\n",
      "Requirement already satisfied: python-dateutil>=2.8.2 in c:\\users\\usuario\\anaconda3\\envs\\image_detection\\lib\\site-packages (from pandas>=1.0.0->ucimlrepo) (2.9.0.post0)\n",
      "Requirement already satisfied: pytz>=2020.1 in c:\\users\\usuario\\anaconda3\\envs\\image_detection\\lib\\site-packages (from pandas>=1.0.0->ucimlrepo) (2024.1)\n",
      "Requirement already satisfied: tzdata>=2022.7 in c:\\users\\usuario\\anaconda3\\envs\\image_detection\\lib\\site-packages (from pandas>=1.0.0->ucimlrepo) (2023.3)\n",
      "Requirement already satisfied: six>=1.5 in c:\\users\\usuario\\anaconda3\\envs\\image_detection\\lib\\site-packages (from python-dateutil>=2.8.2->pandas>=1.0.0->ucimlrepo) (1.16.0)\n"
     ]
    }
   ],
   "source": [
    "!pip install ucimlrepo"
   ]
  },
  {
   "cell_type": "code",
   "execution_count": 45,
   "metadata": {},
   "outputs": [
    {
     "name": "stdout",
     "output_type": "stream",
     "text": [
      "The autoreload extension is already loaded. To reload it, use:\n",
      "  %reload_ext autoreload\n"
     ]
    }
   ],
   "source": [
    "%load_ext autoreload\n",
    "%autoreload 2"
   ]
  },
  {
   "cell_type": "code",
   "execution_count": 103,
   "metadata": {},
   "outputs": [],
   "source": [
    "import warnings\n",
    "\n",
    "warnings.filterwarnings('ignore')"
   ]
  },
  {
   "cell_type": "code",
   "execution_count": 104,
   "metadata": {},
   "outputs": [
    {
     "name": "stdout",
     "output_type": "stream",
     "text": [
      "{'uci_id': 2, 'name': 'Adult', 'repository_url': 'https://archive.ics.uci.edu/dataset/2/adult', 'data_url': 'https://archive.ics.uci.edu/static/public/2/data.csv', 'abstract': 'Predict whether annual income of an individual exceeds $50K/yr based on census data. Also known as \"Census Income\" dataset. ', 'area': 'Social Science', 'tasks': ['Classification'], 'characteristics': ['Multivariate'], 'num_instances': 48842, 'num_features': 14, 'feature_types': ['Categorical', 'Integer'], 'demographics': ['Age', 'Income', 'Education Level', 'Other', 'Race', 'Sex'], 'target_col': ['income'], 'index_col': None, 'has_missing_values': 'yes', 'missing_values_symbol': 'NaN', 'year_of_dataset_creation': 1996, 'last_updated': 'Tue Sep 24 2024', 'dataset_doi': '10.24432/C5XW20', 'creators': ['Barry Becker', 'Ronny Kohavi'], 'intro_paper': None, 'additional_info': {'summary': \"Extraction was done by Barry Becker from the 1994 Census database.  A set of reasonably clean records was extracted using the following conditions: ((AAGE>16) && (AGI>100) && (AFNLWGT>1)&& (HRSWK>0))\\n\\nPrediction task is to determine whether a person's income is over $50,000 a year.\\n\", 'purpose': None, 'funded_by': None, 'instances_represent': None, 'recommended_data_splits': None, 'sensitive_data': None, 'preprocessing_description': None, 'variable_info': 'Listing of attributes:\\r\\n\\r\\n>50K, <=50K.\\r\\n\\r\\nage: continuous.\\r\\nworkclass: Private, Self-emp-not-inc, Self-emp-inc, Federal-gov, Local-gov, State-gov, Without-pay, Never-worked.\\r\\nfnlwgt: continuous.\\r\\neducation: Bachelors, Some-college, 11th, HS-grad, Prof-school, Assoc-acdm, Assoc-voc, 9th, 7th-8th, 12th, Masters, 1st-4th, 10th, Doctorate, 5th-6th, Preschool.\\r\\neducation-num: continuous.\\r\\nmarital-status: Married-civ-spouse, Divorced, Never-married, Separated, Widowed, Married-spouse-absent, Married-AF-spouse.\\r\\noccupation: Tech-support, Craft-repair, Other-service, Sales, Exec-managerial, Prof-specialty, Handlers-cleaners, Machine-op-inspct, Adm-clerical, Farming-fishing, Transport-moving, Priv-house-serv, Protective-serv, Armed-Forces.\\r\\nrelationship: Wife, Own-child, Husband, Not-in-family, Other-relative, Unmarried.\\r\\nrace: White, Asian-Pac-Islander, Amer-Indian-Eskimo, Other, Black.\\r\\nsex: Female, Male.\\r\\ncapital-gain: continuous.\\r\\ncapital-loss: continuous.\\r\\nhours-per-week: continuous.\\r\\nnative-country: United-States, Cambodia, England, Puerto-Rico, Canada, Germany, Outlying-US(Guam-USVI-etc), India, Japan, Greece, South, China, Cuba, Iran, Honduras, Philippines, Italy, Poland, Jamaica, Vietnam, Mexico, Portugal, Ireland, France, Dominican-Republic, Laos, Ecuador, Taiwan, Haiti, Columbia, Hungary, Guatemala, Nicaragua, Scotland, Thailand, Yugoslavia, El-Salvador, Trinadad&Tobago, Peru, Hong, Holand-Netherlands.', 'citation': None}}\n",
      "              name     role         type      demographic  \\\n",
      "0              age  Feature      Integer              Age   \n",
      "1        workclass  Feature  Categorical           Income   \n",
      "2           fnlwgt  Feature      Integer             None   \n",
      "3        education  Feature  Categorical  Education Level   \n",
      "4    education-num  Feature      Integer  Education Level   \n",
      "5   marital-status  Feature  Categorical            Other   \n",
      "6       occupation  Feature  Categorical            Other   \n",
      "7     relationship  Feature  Categorical            Other   \n",
      "8             race  Feature  Categorical             Race   \n",
      "9              sex  Feature       Binary              Sex   \n",
      "10    capital-gain  Feature      Integer             None   \n",
      "11    capital-loss  Feature      Integer             None   \n",
      "12  hours-per-week  Feature      Integer             None   \n",
      "13  native-country  Feature  Categorical            Other   \n",
      "14          income   Target       Binary           Income   \n",
      "\n",
      "                                          description units missing_values  \n",
      "0                                                 N/A  None             no  \n",
      "1   Private, Self-emp-not-inc, Self-emp-inc, Feder...  None            yes  \n",
      "2                                                None  None             no  \n",
      "3    Bachelors, Some-college, 11th, HS-grad, Prof-...  None             no  \n",
      "4                                                None  None             no  \n",
      "5   Married-civ-spouse, Divorced, Never-married, S...  None             no  \n",
      "6   Tech-support, Craft-repair, Other-service, Sal...  None            yes  \n",
      "7   Wife, Own-child, Husband, Not-in-family, Other...  None             no  \n",
      "8   White, Asian-Pac-Islander, Amer-Indian-Eskimo,...  None             no  \n",
      "9                                       Female, Male.  None             no  \n",
      "10                                               None  None             no  \n",
      "11                                               None  None             no  \n",
      "12                                               None  None             no  \n",
      "13  United-States, Cambodia, England, Puerto-Rico,...  None            yes  \n",
      "14                                       >50K, <=50K.  None             no  \n"
     ]
    }
   ],
   "source": [
    "from ucimlrepo import fetch_ucirepo \n",
    "import pandas as pd\n",
    "  \n",
    "# fetch dataset \n",
    "adult = fetch_ucirepo(id=2) \n",
    "  \n",
    "# data (as pandas dataframes) \n",
    "X = adult.data.features \n",
    "y = adult.data.targets \n",
    "y['income'] = y['income'].str.replace(r'\\.$', '', regex=True)\n",
    "\n",
    "  \n",
    "# metadata \n",
    "print(adult.metadata) \n",
    "  \n",
    "# variable information \n",
    "print(adult.variables) \n"
   ]
  },
  {
   "cell_type": "code",
   "execution_count": 105,
   "metadata": {},
   "outputs": [],
   "source": [
    "X = X.dropna()\n",
    "y = y.loc[X.index]"
   ]
  },
  {
   "cell_type": "code",
   "execution_count": 106,
   "metadata": {},
   "outputs": [],
   "source": [
    "from sklearn.preprocessing import LabelEncoder\n",
    "\n",
    "X_encoded = pd.get_dummies(X, columns = ['workclass', 'education', 'marital-status', 'occupation', 'relationship', 'race', 'sex', 'native-country'])\n",
    "\n",
    "le = LabelEncoder()\n",
    "y['income'] = le.fit_transform(y['income'])"
   ]
  },
  {
   "cell_type": "code",
   "execution_count": 115,
   "metadata": {},
   "outputs": [
    {
     "name": "stdout",
     "output_type": "stream",
     "text": [
      "\n",
      "Precisión del modelo Random Forest en el conjunto de prueba: 0.854514909701806\n",
      "\n",
      "Reporte de clasificación en el conjunto de prueba:\n",
      "              precision    recall  f1-score   support\n",
      "\n",
      "           0       0.89      0.93      0.91      9041\n",
      "           1       0.73      0.62      0.67      2864\n",
      "\n",
      "    accuracy                           0.85     11905\n",
      "   macro avg       0.81      0.78      0.79     11905\n",
      "weighted avg       0.85      0.85      0.85     11905\n",
      "\n",
      "\n",
      "Precisión del modelo Random Forest en el conjunto de entrenamiento: 1.0\n",
      "\n",
      "Reporte de clasificación en el conjunto de entrenamiento:\n",
      "              precision    recall  f1-score   support\n",
      "\n",
      "           0       1.00      1.00      1.00      9096\n",
      "           1       1.00      1.00      1.00      2809\n",
      "\n",
      "    accuracy                           1.00     11905\n",
      "   macro avg       1.00      1.00      1.00     11905\n",
      "weighted avg       1.00      1.00      1.00     11905\n",
      "\n"
     ]
    }
   ],
   "source": [
    "from sklearn.model_selection import train_test_split\n",
    "from sklearn.ensemble import RandomForestClassifier\n",
    "from sklearn.metrics import accuracy_score, classification_report\n",
    "\n",
    "\n",
    "\n",
    "n = len(X_encoded)//2\n",
    "\n",
    "#Dividim el dataset\n",
    "target_X = X_encoded.iloc[:n]\n",
    "target_y = y.iloc[:n]\n",
    "\n",
    "X_train, X_test, y_train, y_test = train_test_split(target_X, target_y, test_size=0.5)\n",
    "\n",
    "target_out = list(X_test.index)\n",
    "\n",
    "target_model = RandomForestClassifier(n_estimators=100)\n",
    "target_model.fit(X_train, y_train)\n",
    "\n",
    "preds_target = target_model.predict_proba(target_X)\n",
    "target_df = pd.DataFrame({\n",
    "        'prediction': preds_target.tolist(),\n",
    "        'in_or_out': [1] * len(target_X)\n",
    "    })\n",
    "target_df.loc[target_df.index.isin(target_out), 'in_or_out'] = 0\n",
    "\n",
    "target_df.dropna()\n",
    "target_df[['pred_1', 'pred_2']] = pd.DataFrame(target_df['prediction'].tolist(), index=target_df.index)\n",
    "target_df = target_df.drop('prediction', axis = 1)\n",
    "\n",
    "\n",
    "# Predicciones sobre el conjunto de prueba\n",
    "y_pred = target_model.predict(X_test)\n",
    "\n",
    "# Precisión en el conjunto de prueba\n",
    "accuracy = accuracy_score(y_test, y_pred)\n",
    "print(\"\\nPrecisión del modelo Random Forest en el conjunto de prueba:\", accuracy)\n",
    "\n",
    "# Reporte de clasificación en el conjunto de prueba\n",
    "print(\"\\nReporte de clasificación en el conjunto de prueba:\")\n",
    "print(classification_report(y_test, y_pred))\n",
    "\n",
    "# Predicciones sobre el conjunto de entrenamiento\n",
    "y_train_pred = target_model.predict(X_train)\n",
    "\n",
    "# Precisión en el conjunto de entrenamiento\n",
    "train_accuracy = accuracy_score(y_train, y_train_pred)\n",
    "print(\"\\nPrecisión del modelo Random Forest en el conjunto de entrenamiento:\", train_accuracy)\n",
    "\n",
    "# Reporte de clasificación en el conjunto de entrenamiento\n",
    "print(\"\\nReporte de clasificación en el conjunto de entrenamiento:\")\n",
    "print(classification_report(y_train, y_train_pred))"
   ]
  },
  {
   "cell_type": "code",
   "execution_count": 112,
   "metadata": {},
   "outputs": [],
   "source": [
    "X_shadow = X_encoded.iloc[n:]\n",
    "y_shadow = y.iloc[n:]\n",
    "X_train, X_test, y_train, y_test = train_test_split(target_X, target_y, test_size=0.5)\n",
    "\n",
    "shadow_out = list(X_test.index)\n",
    "\n",
    "model_rf = RandomForestClassifier(n_estimators=100)\n",
    "model_rf.fit(X_train, y_train)\n",
    "\n",
    "preds = model_rf.predict_proba(X_shadow)\n",
    "\n",
    "\n",
    "result_df = pd.DataFrame({\n",
    "        'prediction': preds.tolist(),\n",
    "        'in_or_out': [1] * len(X_shadow)\n",
    "    })\n",
    "\n",
    "result_df.loc[result_df.index.isin(shadow_out), 'in_or_out'] = 0\n",
    "\n",
    "result_df.dropna()\n",
    "result_df[['pred_1', 'pred_2']] = pd.DataFrame(result_df['prediction'].tolist(), index=result_df.index)\n",
    "result_df = result_df.drop('prediction', axis = 1)"
   ]
  },
  {
   "cell_type": "code",
   "execution_count": 109,
   "metadata": {},
   "outputs": [
    {
     "name": "stdout",
     "output_type": "stream",
     "text": [
      "(26787, 2)\n",
      "\n",
      "Precisión del modelo Random Forest en el conjunto de prueba: 0.839511703438235\n",
      "\n",
      "Reporte de clasificación en el conjunto de prueba:\n",
      "              precision    recall  f1-score   support\n",
      "\n",
      "           0       0.00      0.00      0.00      1433\n",
      "           1       0.84      1.00      0.91      7496\n",
      "\n",
      "    accuracy                           0.84      8929\n",
      "   macro avg       0.42      0.50      0.46      8929\n",
      "weighted avg       0.70      0.84      0.77      8929\n",
      "\n",
      "\n",
      "Precisión del modelo Random Forest en el conjunto de entrenamiento: 0.8312614327845597\n",
      "\n",
      "Reporte de clasificación en el conjunto de entrenamiento:\n",
      "              precision    recall  f1-score   support\n",
      "\n",
      "           0       0.00      0.00      0.00      4520\n",
      "           1       0.83      1.00      0.91     22267\n",
      "\n",
      "    accuracy                           0.83     26787\n",
      "   macro avg       0.42      0.50      0.45     26787\n",
      "weighted avg       0.69      0.83      0.75     26787\n",
      "\n"
     ]
    }
   ],
   "source": [
    "final_X = result_df.drop('in_or_out', axis = 1)\n",
    "final_y = result_df['in_or_out'].astype(int)\n",
    "\n",
    "\n",
    "X_train, X_test, y_train, y_test = train_test_split(final_X, final_y, test_size=0.25)\n",
    "\n",
    "print(X_train.shape)\n",
    "\n",
    "attack_model = RandomForestClassifier(n_estimators=100)\n",
    "attack_model.fit(X_train, y_train)\n",
    "\n",
    "y_pred = attack_model.predict(X_test)\n",
    "\n",
    "accuracy = accuracy_score(y_test, y_pred)\n",
    "print(\"\\nPrecisión del modelo Random Forest en el conjunto de prueba:\", accuracy)\n",
    "\n",
    "# Reporte de clasificación en el conjunto de prueba\n",
    "print(\"\\nReporte de clasificación en el conjunto de prueba:\")\n",
    "print(classification_report(y_test, y_pred))\n",
    "\n",
    "# Predicciones sobre el conjunto de entrenamiento\n",
    "y_train_pred = attack_model.predict(X_train)\n",
    "\n",
    "# Precisión en el conjunto de entrenamiento\n",
    "train_accuracy = accuracy_score(y_train, y_train_pred)\n",
    "print(\"\\nPrecisión del modelo Random Forest en el conjunto de entrenamiento:\", train_accuracy)\n",
    "\n",
    "# Reporte de clasificación en el conjunto de entrenamiento\n",
    "print(\"\\nReporte de clasificación en el conjunto de entrenamiento:\")\n",
    "print(classification_report(y_train, y_train_pred))"
   ]
  },
  {
   "cell_type": "code",
   "execution_count": 114,
   "metadata": {},
   "outputs": [
    {
     "name": "stdout",
     "output_type": "stream",
     "text": [
      "              precision    recall  f1-score   support\n",
      "\n",
      "           0       0.00      0.00      0.00      5953\n",
      "           1       0.50      1.00      0.67      5952\n",
      "\n",
      "    accuracy                           0.50     11905\n",
      "   macro avg       0.25      0.50      0.33     11905\n",
      "weighted avg       0.25      0.50      0.33     11905\n",
      "\n"
     ]
    }
   ],
   "source": [
    "X_attacked = target_df.drop('in_or_out', axis = 1)\n",
    "y_attacked = target_df['in_or_out']\n",
    "\n",
    "y_pred = attack_model.predict(X_attacked)\n",
    "\n",
    "accuracy = accuracy_score(y_attacked, y_pred)\n",
    "\n",
    "print(classification_report(y_attacked, y_pred))"
   ]
  }
 ],
 "metadata": {
  "kernelspec": {
   "display_name": "image_detection",
   "language": "python",
   "name": "python3"
  },
  "language_info": {
   "codemirror_mode": {
    "name": "ipython",
    "version": 3
   },
   "file_extension": ".py",
   "mimetype": "text/x-python",
   "name": "python",
   "nbconvert_exporter": "python",
   "pygments_lexer": "ipython3",
   "version": "3.12.3"
  }
 },
 "nbformat": 4,
 "nbformat_minor": 2
}
